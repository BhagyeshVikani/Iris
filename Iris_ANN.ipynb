{
 "cells": [
  {
   "cell_type": "code",
   "execution_count": 1,
   "metadata": {
    "collapsed": true
   },
   "outputs": [],
   "source": [
    "import gc, os, pickle\n",
    "import numpy as np\n",
    "import pandas as pd\n",
    "import tensorflow as tf"
   ]
  },
  {
   "cell_type": "code",
   "execution_count": 2,
   "metadata": {
    "collapsed": true
   },
   "outputs": [],
   "source": [
    "def weight_variable(shape):\n",
    "    initial = tf.truncated_normal(shape, stddev=0.1)\n",
    "    return tf.Variable(initial)"
   ]
  },
  {
   "cell_type": "code",
   "execution_count": 3,
   "metadata": {
    "collapsed": true
   },
   "outputs": [],
   "source": [
    "def bias_variable(shape):\n",
    "    initial = tf.constant(0.1, shape=shape)\n",
    "    return tf.Variable(initial)"
   ]
  },
  {
   "cell_type": "code",
   "execution_count": 4,
   "metadata": {
    "collapsed": true
   },
   "outputs": [],
   "source": [
    "def variable_summaries(var, name):\n",
    "    with tf.name_scope('summaries'):\n",
    "        mean = tf.reduce_mean(var)\n",
    "        tf.scalar_summary('mean/' + name, mean)\n",
    "        \n",
    "        with tf.name_scope('stddev'):\n",
    "            stddev = tf.sqrt(tf.reduce_mean(tf.square(var - mean)))\n",
    "            tf.scalar_summary('stddev/' + name, stddev)\n",
    "            \n",
    "        tf.scalar_summary('max/' + name, tf.reduce_max(var))\n",
    "        tf.scalar_summary('min/' + name, tf.reduce_min(var))\n",
    "        \n",
    "        tf.histogram_summary(name, var)"
   ]
  },
  {
   "cell_type": "code",
   "execution_count": 5,
   "metadata": {
    "collapsed": true
   },
   "outputs": [],
   "source": [
    "def dense_connected_layer(input_tensor, weight_shape, bias_shape, layer_name, activation_fun = tf.nn.relu):\n",
    "    with tf.name_scope(layer_name):\n",
    "        with tf.name_scope('weights'):\n",
    "            W = weight_variable(weight_shape)\n",
    "            variable_summaries(W, layer_name + '/weights')\n",
    "        with tf.name_scope('biases'):\n",
    "            b = bias_variable(bias_shape)\n",
    "            variable_summaries(b, layer_name + '/biases')\n",
    "        \n",
    "        with tf.name_scope('Wx_plus_b'):\n",
    "            h = tf.matmul(input_tensor, W) + b\n",
    "            tf.histogram_summary(layer_name + '/Wx_plus_b', h)\n",
    "            \n",
    "        with tf.name_scope('activation'): \n",
    "            h_ = activation_fun(h, )\n",
    "            tf.histogram_summary(layer_name + '/activation', h_)\n",
    "        \n",
    "    return h_"
   ]
  },
  {
   "cell_type": "code",
   "execution_count": 6,
   "metadata": {
    "collapsed": true
   },
   "outputs": [],
   "source": [
    "def softmax_layer(input_tensor, layer_name):\n",
    "    with tf.name_scope(layer_name):\n",
    "        h_softmax = tf.nn.softmax(input_tensor)\n",
    "        tf.histogram_summary(layer_name + '/softmax', h_softmax)\n",
    "        \n",
    "    return h_softmax"
   ]
  },
  {
   "cell_type": "code",
   "execution_count": 7,
   "metadata": {
    "collapsed": true
   },
   "outputs": [],
   "source": [
    "def cost_function(y_, y, reduction_indices = [1]):\n",
    "    with tf.name_scope('cost_function'):\n",
    "        cost = tf.reduce_mean(-tf.reduce_sum(y_ * tf.log(y), reduction_indices = reduction_indices))\n",
    "        tf.scalar_summary('cost_function', cost)\n",
    "    \n",
    "    return cost"
   ]
  },
  {
   "cell_type": "code",
   "execution_count": 8,
   "metadata": {
    "collapsed": true
   },
   "outputs": [],
   "source": [
    "def accuracy_function(y_, y):\n",
    "    with tf.name_scope('accuracy_function'):\n",
    "        with tf.name_scope('correct_prediction'):\n",
    "            correct_prediction = tf.equal(tf.argmax(y, 1), tf.argmax(y_, 1))\n",
    "        \n",
    "        accuracy = tf.reduce_mean(tf.cast(correct_prediction, tf.float32))\n",
    "        tf.scalar_summary('/accuracy_function', accuracy)\n",
    "        \n",
    "    return accuracy"
   ]
  },
  {
   "cell_type": "code",
   "execution_count": 9,
   "metadata": {
    "collapsed": true
   },
   "outputs": [],
   "source": [
    "def optimizer(y_, y, cost_function = cost_function, optimization_function = tf.train.AdamOptimizer,\n",
    "              learning_rate = 1e-2, reduction_indices = [1]):\n",
    "    optimize = optimization_function(learning_rate).minimize(cost_function(y_, y, reduction_indices = [1]))\n",
    "    \n",
    "    return optimize"
   ]
  },
  {
   "cell_type": "code",
   "execution_count": 10,
   "metadata": {
    "collapsed": true
   },
   "outputs": [],
   "source": [
    "def save_session(session, checkpoint_name = \"checkpoint\", save_path = \"backup\"):\n",
    "    saver = tf.train.Saver()\n",
    "    saver.save(sess, save_path + \"/\" + checkpoint_name + \".ckpt\")"
   ]
  },
  {
   "cell_type": "code",
   "execution_count": 11,
   "metadata": {
    "collapsed": false
   },
   "outputs": [],
   "source": [
    "def restore_session(session, checkpoint_name = \"checkpoint\", save_path = \"backup\"):\n",
    "    saver = tf.train.Saver()\n",
    "    ckpt = tf.train.get_checkpoint_state(save_path)\n",
    "    temp = 0\n",
    "    if ckpt and ckpt.model_checkpoint_path:\n",
    "        try:\n",
    "            saver.restore(session, ckpt.model_checkpoint_path)\n",
    "            temp += 1\n",
    "        finally:\n",
    "            temp += 1\n",
    "            \n",
    "    if temp == 0:    \n",
    "        return -1\n",
    "    return temp"
   ]
  },
  {
   "cell_type": "code",
   "execution_count": 12,
   "metadata": {
    "collapsed": true
   },
   "outputs": [],
   "source": [
    "ITERATIONS = 10 ** 3\n",
    "LEARNING_RATE = 1e-3"
   ]
  },
  {
   "cell_type": "code",
   "execution_count": 13,
   "metadata": {
    "collapsed": true
   },
   "outputs": [],
   "source": [
    "sess = tf.InteractiveSession()"
   ]
  },
  {
   "cell_type": "code",
   "execution_count": 14,
   "metadata": {
    "collapsed": true
   },
   "outputs": [],
   "source": [
    "x = tf.placeholder(tf.float32, shape = [None, 4])\n",
    "y_ = tf.placeholder(tf.float32, shape = [None, 3])"
   ]
  },
  {
   "cell_type": "code",
   "execution_count": 15,
   "metadata": {
    "collapsed": false
   },
   "outputs": [],
   "source": [
    "layer1 = dense_connected_layer(input_tensor = x, weight_shape = [4, 32], bias_shape = [32], \n",
    "                               layer_name = \"layer1\")"
   ]
  },
  {
   "cell_type": "code",
   "execution_count": 16,
   "metadata": {
    "collapsed": false
   },
   "outputs": [],
   "source": [
    "layer2 = dense_connected_layer(input_tensor = layer1, weight_shape = [32, 64], bias_shape = [64], \n",
    "                               layer_name = \"layer2\")"
   ]
  },
  {
   "cell_type": "code",
   "execution_count": 17,
   "metadata": {
    "collapsed": false
   },
   "outputs": [],
   "source": [
    "layer3 = dense_connected_layer(input_tensor = layer2, weight_shape = [64, 3], bias_shape = [3], \n",
    "                               layer_name = \"layer3\")"
   ]
  },
  {
   "cell_type": "code",
   "execution_count": 18,
   "metadata": {
    "collapsed": false
   },
   "outputs": [],
   "source": [
    "y = softmax_layer(input_tensor = layer3, layer_name = \"layer4\")"
   ]
  },
  {
   "cell_type": "code",
   "execution_count": 19,
   "metadata": {
    "collapsed": false
   },
   "outputs": [],
   "source": [
    "optimize = optimizer(y_, y, cost_function = cost_function, learning_rate = LEARNING_RATE)"
   ]
  },
  {
   "cell_type": "code",
   "execution_count": 20,
   "metadata": {
    "collapsed": false
   },
   "outputs": [
    {
     "data": {
      "text/html": [
       "<div>\n",
       "<table border=\"1\" class=\"dataframe\">\n",
       "  <thead>\n",
       "    <tr style=\"text-align: right;\">\n",
       "      <th></th>\n",
       "      <th>Id</th>\n",
       "      <th>SepalLengthCm</th>\n",
       "      <th>SepalWidthCm</th>\n",
       "      <th>PetalLengthCm</th>\n",
       "      <th>PetalWidthCm</th>\n",
       "      <th>Iris-setosa</th>\n",
       "      <th>Iris-versicolor</th>\n",
       "      <th>Iris-virginica</th>\n",
       "    </tr>\n",
       "  </thead>\n",
       "  <tbody>\n",
       "    <tr>\n",
       "      <th>96</th>\n",
       "      <td>97</td>\n",
       "      <td>5.7</td>\n",
       "      <td>2.9</td>\n",
       "      <td>4.2</td>\n",
       "      <td>1.3</td>\n",
       "      <td>0.0</td>\n",
       "      <td>1.0</td>\n",
       "      <td>0.0</td>\n",
       "    </tr>\n",
       "    <tr>\n",
       "      <th>88</th>\n",
       "      <td>89</td>\n",
       "      <td>5.6</td>\n",
       "      <td>3.0</td>\n",
       "      <td>4.1</td>\n",
       "      <td>1.3</td>\n",
       "      <td>0.0</td>\n",
       "      <td>1.0</td>\n",
       "      <td>0.0</td>\n",
       "    </tr>\n",
       "    <tr>\n",
       "      <th>32</th>\n",
       "      <td>33</td>\n",
       "      <td>5.2</td>\n",
       "      <td>4.1</td>\n",
       "      <td>1.5</td>\n",
       "      <td>0.1</td>\n",
       "      <td>1.0</td>\n",
       "      <td>0.0</td>\n",
       "      <td>0.0</td>\n",
       "    </tr>\n",
       "    <tr>\n",
       "      <th>117</th>\n",
       "      <td>118</td>\n",
       "      <td>7.7</td>\n",
       "      <td>3.8</td>\n",
       "      <td>6.7</td>\n",
       "      <td>2.2</td>\n",
       "      <td>0.0</td>\n",
       "      <td>0.0</td>\n",
       "      <td>1.0</td>\n",
       "    </tr>\n",
       "    <tr>\n",
       "      <th>8</th>\n",
       "      <td>9</td>\n",
       "      <td>4.4</td>\n",
       "      <td>2.9</td>\n",
       "      <td>1.4</td>\n",
       "      <td>0.2</td>\n",
       "      <td>1.0</td>\n",
       "      <td>0.0</td>\n",
       "      <td>0.0</td>\n",
       "    </tr>\n",
       "  </tbody>\n",
       "</table>\n",
       "</div>"
      ],
      "text/plain": [
       "      Id  SepalLengthCm  SepalWidthCm  PetalLengthCm  PetalWidthCm  \\\n",
       "96    97            5.7           2.9            4.2           1.3   \n",
       "88    89            5.6           3.0            4.1           1.3   \n",
       "32    33            5.2           4.1            1.5           0.1   \n",
       "117  118            7.7           3.8            6.7           2.2   \n",
       "8      9            4.4           2.9            1.4           0.2   \n",
       "\n",
       "     Iris-setosa  Iris-versicolor  Iris-virginica  \n",
       "96           0.0              1.0             0.0  \n",
       "88           0.0              1.0             0.0  \n",
       "32           1.0              0.0             0.0  \n",
       "117          0.0              0.0             1.0  \n",
       "8            1.0              0.0             0.0  "
      ]
     },
     "execution_count": 20,
     "metadata": {},
     "output_type": "execute_result"
    }
   ],
   "source": [
    "data = pd.read_csv(\"Iris.csv\")\n",
    "data_dummy = pd.get_dummies(data[\"Species\"])\n",
    "data = data.join(data_dummy)\n",
    "data = data.drop([\"Species\"], axis = 1)\n",
    "data = data.iloc[np.random.permutation(len(data))]\n",
    "data.head()"
   ]
  },
  {
   "cell_type": "code",
   "execution_count": 21,
   "metadata": {
    "collapsed": true
   },
   "outputs": [],
   "source": [
    "features = [\"SepalLengthCm\", \"SepalWidthCm\", \"PetalLengthCm\", \"PetalWidthCm\"]\n",
    "label = [\"Iris-setosa\", \"Iris-versicolor\", \"Iris-virginica\"]"
   ]
  },
  {
   "cell_type": "code",
   "execution_count": 22,
   "metadata": {
    "collapsed": true
   },
   "outputs": [],
   "source": [
    "train_features = data[features].values\n",
    "train_features = train_features / np.amax(train_features)\n",
    "train_labels = data[label].values"
   ]
  },
  {
   "cell_type": "code",
   "execution_count": 23,
   "metadata": {
    "collapsed": true
   },
   "outputs": [],
   "source": [
    "train_size = int(0.7 * train_features.shape[0])"
   ]
  },
  {
   "cell_type": "code",
   "execution_count": 24,
   "metadata": {
    "collapsed": false
   },
   "outputs": [],
   "source": [
    "validation_features = train_features[train_size:]\n",
    "validation_labels = train_labels[train_size:]\n",
    "\n",
    "train_features = train_features[:train_size]\n",
    "train_labels = train_labels[:train_size]"
   ]
  },
  {
   "cell_type": "code",
   "execution_count": 25,
   "metadata": {
    "collapsed": false
   },
   "outputs": [],
   "source": [
    "accuracy = accuracy_function(y_, y)"
   ]
  },
  {
   "cell_type": "code",
   "execution_count": 26,
   "metadata": {
    "collapsed": false
   },
   "outputs": [],
   "source": [
    "if restore_session(sess) < 0:\n",
    "    sess.run(tf.initialize_all_variables())"
   ]
  },
  {
   "cell_type": "code",
   "execution_count": 27,
   "metadata": {
    "collapsed": false
   },
   "outputs": [
    {
     "name": "stdout",
     "output_type": "stream",
     "text": [
      "Training Accuracy = 0.980952\n"
     ]
    }
   ],
   "source": [
    "for i in range(ITERATIONS):\n",
    "    optimize.run(feed_dict={x : train_features, y_ : train_labels})\n",
    "    \n",
    "    if i % 10.0 == 0.0:\n",
    "        save_session(sess)\n",
    "        \n",
    "accu = accuracy.eval(feed_dict = {x : train_features, y_ : train_labels})\n",
    "print(\"Training Accuracy = \" + str(accu))"
   ]
  },
  {
   "cell_type": "code",
   "execution_count": 28,
   "metadata": {
    "collapsed": true
   },
   "outputs": [],
   "source": [
    "save_session(sess)"
   ]
  },
  {
   "cell_type": "code",
   "execution_count": 29,
   "metadata": {
    "collapsed": false
   },
   "outputs": [
    {
     "name": "stdout",
     "output_type": "stream",
     "text": [
      "Validation Accuracy = 1.0\n"
     ]
    }
   ],
   "source": [
    "accu = accuracy.eval(feed_dict = {x : validation_features, y_ : validation_labels})\n",
    "print(\"Validation Accuracy = \" + str(accu))"
   ]
  }
 ],
 "metadata": {
  "anaconda-cloud": {},
  "kernelspec": {
   "display_name": "Python [conda env:deeplearning]",
   "language": "python",
   "name": "conda-env-deeplearning-py"
  },
  "language_info": {
   "codemirror_mode": {
    "name": "ipython",
    "version": 3
   },
   "file_extension": ".py",
   "mimetype": "text/x-python",
   "name": "python",
   "nbconvert_exporter": "python",
   "pygments_lexer": "ipython3",
   "version": "3.5.2"
  }
 },
 "nbformat": 4,
 "nbformat_minor": 1
}
